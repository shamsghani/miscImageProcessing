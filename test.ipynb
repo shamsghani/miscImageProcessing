{
 "cells": [
  {
   "cell_type": "code",
   "execution_count": 2,
   "metadata": {},
   "outputs": [],
   "source": [
    "import numpy as np\n",
    "import pandas as pd\n",
    "import os\n",
    "import cv2\n",
    "import matplotlib.pyplot as plt\n",
    "import random\n",
    "import math\n",
    "import PIL\n",
    "from PIL import Image\n",
    "import matplotlib.image as mpimg"
   ]
  },
  {
   "cell_type": "markdown",
   "metadata": {},
   "source": [
    "The blocks here contain miscellaneous methods for image processing."
   ]
  },
  {
   "cell_type": "code",
   "execution_count": 3,
   "metadata": {},
   "outputs": [],
   "source": [
    "#im going to be honest i dont remember why i made this and also if i even used it\n",
    "#regardless, here it lies, and here it shall lie indeffinitely\n",
    "#unless i decide to remove it\n",
    "def conv(img, kernel):\n",
    "    kH,kW = kernel.shape\n",
    "    (imH,imW) = img.shape\n",
    "    new_img = np.zeros(img.shape)\n",
    "    pad = int((kH-1)/2)\n",
    "\n",
    "    for y in range(imH-kH):\n",
    "        for x in range(imW-kW):\n",
    "            window = img[y:y+kH,x:x+kW]\n",
    "            new_img[y+pad,x+pad] = (kernel * window).sum()\n",
    "\n",
    "    return new_img"
   ]
  },
  {
   "cell_type": "code",
   "execution_count": 7,
   "metadata": {},
   "outputs": [],
   "source": [
    "#replace the path it a path to a folder containing images\n",
    "#it'll put the images in an array and you can access them later.\n",
    "def get_image():\n",
    "    DATADIR = \"your path here\"\n",
    "\n",
    "\n",
    "    selected = False\n",
    "    while(selected == False):\n",
    "        rand = random.randrange(0,len(os.listdir(DATADIR)))\n",
    "        img_name = (os.listdir(DATADIR))[rand]\n",
    "        if img_name.endswith(\"JPG\" or \"jpg\" or \"png\" or \"PNG\"):\n",
    "            # read an image\n",
    "            img = Image.open(os.path.join(DATADIR, (os.listdir(DATADIR))[rand])).convert('L')\n",
    "            Oimg = mpimg.imread(os.path.join(DATADIR, (os.listdir(DATADIR))[rand]))\n",
    "            img_arr = np.asarray(img)\n",
    "            selected = True\n",
    "\n",
    "    return img_arr, Oimg"
   ]
  },
  {
   "cell_type": "code",
   "execution_count": null,
   "metadata": {},
   "outputs": [],
   "source": [
    "import numpy as np\n",
    "import math\n",
    "import cv2\n",
    "from tqdm import tqdm\n",
    "\n",
    "\n",
    "#this is the sobel filter, it also applies non-maximal-suppression (nms)\n",
    "#for those that dont know, sobel is a contrast based edge detection algorithm\n",
    "#and nms is a processing step that thins the underlying structure found by sobel\n",
    "#from this point forward all processing is done on images in the form of ndarrays\n",
    "def sobel_filter(img):\n",
    "    sobelx = np.array([[-1, 0, 1],\n",
    "                       [-2, 0, 2],\n",
    "                       [-1, 0, 1]])\n",
    "\n",
    "    sobely = np.array([[-1, -2, -1],\n",
    "                       [0, 0, 0],\n",
    "                       [1, 2, 1]])\n",
    "\n",
    "    kH, kW = sobelx.shape\n",
    "    (imH, imW) = img.shape\n",
    "    new_img = np.zeros(img.shape)\n",
    "    theta = np.zeros(img.shape)\n",
    "    hsv_img = np.zeros((img.shape[0], img.shape[1], 3))\n",
    "    nms_img = np.zeros(img.shape)\n",
    "    pad = int((kH - 1) / 2)\n",
    "\n",
    "    # Add progress bar for the first loop\n",
    "    for y in tqdm(range(imH - kH), desc='Applying Sobel filter'):\n",
    "        for x in range(imW - kW):\n",
    "            window = img[y:y + kH, x:x + kW]\n",
    "            new_img[y + pad, x + pad] = (((sobelx * window).sum()) ** 2 + ((sobely * window).sum()) ** 2) ** 0.5\n",
    "            if new_img[y + pad, x + pad] > 0:\n",
    "                if (sobelx * window).sum() == 0:\n",
    "                    theta[y + pad, x + pad] = 90\n",
    "                else:\n",
    "                    theta[y + pad, x + pad] = (math.degrees(math.atan((sobely * window).sum() / (sobelx * window).sum()))) % 180\n",
    "\n",
    "\n",
    "\n",
    "    # Add progress bar for the second loop\n",
    "    for i in tqdm(range(imH - 1), desc='Applying Non-Maximum Suppression'):\n",
    "        for j in range(imW - 1):\n",
    "            if theta[i, j] != 0:\n",
    "                quad = theta[i, j] // 22.5\n",
    "                neighborA = 255\n",
    "                neighborB = 255\n",
    "\n",
    "                if quad in [0, 8]:\n",
    "                    neighborA = new_img[i, j - 1]  # Left\n",
    "                    neighborB = new_img[i, j + 1]  # Right\n",
    "                elif quad in [1, 2]:\n",
    "                    neighborA = new_img[i - 1, j - 1]  # LowerLeft\n",
    "                    neighborB = new_img[i + 1, j + 1]  # UpperRight\n",
    "                elif quad in [5, 6]:\n",
    "                    neighborA = new_img[i - 1, j + 1]  # LowerRight\n",
    "                    neighborB = new_img[i + 1, j - 1]  # UpperLeft\n",
    "                elif quad in [3, 4]:\n",
    "                    neighborA = new_img[i - 1, j]  # Down\n",
    "                    neighborB = new_img[i + 1, j]  # Up\n",
    "                if max([neighborA, new_img[i, j], neighborB]) == new_img[i, j] and new_img[i, j] >= 255 * 0.4:\n",
    "                    nms_img[i, j] = new_img[i, j]\n",
    "                    hsv_img[i, j, :] = [theta[i, j], 255, 255]\n",
    "\n",
    "    return new_img.astype(np.uint8), hsv_img.astype(np.uint8), nms_img.astype(np.uint8)\n"
   ]
  },
  {
   "cell_type": "code",
   "execution_count": 8,
   "metadata": {},
   "outputs": [],
   "source": [
    "img, Oimg = get_image()\n",
    "img = cv2.GaussianBlur(img,(3,3),0)"
   ]
  },
  {
   "cell_type": "code",
   "execution_count": null,
   "metadata": {},
   "outputs": [],
   "source": [
    "plt.figure()\n",
    "plt.title(\"Original Image\")\n",
    "plt.imshow(Oimg)\n",
    "plt.figure()\n",
    "plt.title(\"Original Image (Grayscale)\")\n",
    "plt.imshow(img, 'gray')"
   ]
  },
  {
   "cell_type": "code",
   "execution_count": null,
   "metadata": {},
   "outputs": [],
   "source": [
    "sobel_img,hsv_img,nms_img = sobel_filter(img)\n",
    "\n",
    "plt.figure()\n",
    "plt.title(\"Original Image (grayscale)\")\n",
    "plt.imshow(img,cmap='gray')\n",
    "plt.figure()\n",
    "plt.title(\"After applying Sobel Filter\")\n",
    "plt.imshow(sobel_img,cmap='gray')\n",
    "plt.figure()\n",
    "plt.title(\"After applying NMS and Double Threshold\")\n",
    "plt.imshow(nms_img,cmap='gray')\n",
    "plt.figure()\n",
    "plt.title(\"Color representation of gradient direction\")\n",
    "plt.imshow(cv2.cvtColor(hsv_img,cv2.COLOR_HSV2RGB))"
   ]
  },
  {
   "cell_type": "code",
   "execution_count": null,
   "metadata": {},
   "outputs": [],
   "source": [
    "count = 0\n",
    "blur = cv2.GaussianBlur(img,(3,3),0.5)\n",
    "plt.figure(figsize=(10,10))\n",
    "while(True):\n",
    "    blur = cv2.GaussianBlur(blur,(3,3),0)\n",
    "    new_blur = cv2.GaussianBlur(blur,(3,3),0)\n",
    "    count+=1\n",
    "    plt.subplot(2,3,count)\n",
    "    plt.imshow((blur-new_blur),cmap=\"gray\")\n",
    "    if(count == 6):\n",
    "        break\n",
    "    blur = new_blur\n",
    "plt.tight_layout()\n",
    "plt.show()"
   ]
  },
  {
   "attachments": {},
   "cell_type": "markdown",
   "metadata": {},
   "source": [
    "Experiment starts here"
   ]
  },
  {
   "attachments": {},
   "cell_type": "markdown",
   "metadata": {},
   "source": [
    "boost sobel map because nms output is too weak"
   ]
  },
  {
   "cell_type": "code",
   "execution_count": null,
   "metadata": {},
   "outputs": [],
   "source": [
    "plt.figure()\n",
    "plt.title(\"After applying Sobel Filter\")\n",
    "plt.imshow(sobel_img,cmap='gray')\n"
   ]
  },
  {
   "cell_type": "code",
   "execution_count": null,
   "metadata": {},
   "outputs": [],
   "source": [
    "import numpy as np\n",
    "from tqdm import tqdm\n",
    "from IPython.display import clear_output\n",
    "\n",
    "def threshold_map(image, threshold):\n",
    "  \"\"\"\n",
    "    Boosts the highlights and darkens the shadows of an image.\n",
    "\n",
    "    Args:\n",
    "      image: A 2D NumPy array representing the image.\n",
    "      threshold: The threshold value.\n",
    "\n",
    "    Returns:\n",
    "      A 2D NumPy array representing the boosted image.\n",
    "    \"\"\"\n",
    "\n",
    "  # Create a copy of the image.\n",
    "  copy_image = image.copy()\n",
    "\n",
    "  # Create a progress bar\n",
    "  progress_bar = tqdm(total=copy_image.size, desc=\"Processing\")\n",
    "\n",
    "  # Boost the highlights and darken the shadows.\n",
    "  for i in range(len(copy_image)):\n",
    "    for j in range(len(copy_image[0])):\n",
    "      if copy_image[i][j] >= threshold:\n",
    "        copy_image[i][j] = 100\n",
    "      else:\n",
    "        copy_image[i][j] = 0\n",
    "\n",
    "      # Update the progress bar\n",
    "      progress_bar.update(1)\n",
    "\n",
    "  # Close the progress bar\n",
    "  progress_bar.close()\n",
    "\n",
    "  # Return the boosted image.\n",
    "  return copy_image\n",
    "\n"
   ]
  },
  {
   "cell_type": "code",
   "execution_count": null,
   "metadata": {},
   "outputs": [],
   "source": [
    "mask=threshold_map(sobel_img, 18)"
   ]
  },
  {
   "cell_type": "code",
   "execution_count": null,
   "metadata": {},
   "outputs": [],
   "source": [
    "plt.figure()\n",
    "plt.title(\"Sobel Edge Map\")\n",
    "plt.imshow(sobel_img,cmap='gray')\n",
    "plt.figure()\n",
    "plt.title(\"Threshold Mask\")\n",
    "plt.imshow(mask,cmap='gray')"
   ]
  },
  {
   "attachments": {},
   "cell_type": "markdown",
   "metadata": {},
   "source": [
    "Apply canny"
   ]
  },
  {
   "cell_type": "code",
   "execution_count": 17,
   "metadata": {},
   "outputs": [],
   "source": [
    "import numpy as np\n",
    "from scipy import ndimage\n",
    "from skimage.feature import canny\n",
    "#i didnt write the code for canny because it was easily available\n",
    "#the other steps may also now be abvailable\n",
    "#but ive already written them and i cannot be bothered to remove them\n",
    "def apply_canny_edge_detection(edge_map):\n",
    "    # Convert the edge map to a uint8 grayscale image\n",
    "    image = np.array(edge_map, dtype=np.uint8)\n",
    "\n",
    "    # Apply Canny edge detection\n",
    "    edges = canny(image)\n",
    "\n",
    "    # Convert the boolean array of edges to integer values (0 and 255)\n",
    "    #edges = edges.astype(np.int64) * 255\n",
    "\n",
    "    # Use morphological operations to enhance the edges (optional)\n",
    "    #edges = ndimage.binary_dilation(edges, iterations=2).astype(np.uint8) * 255\n",
    "\n",
    "    return edges\n"
   ]
  },
  {
   "cell_type": "code",
   "execution_count": 18,
   "metadata": {},
   "outputs": [],
   "source": [
    "cannyoutput=apply_canny_edge_detection(mask)"
   ]
  },
  {
   "cell_type": "code",
   "execution_count": 19,
   "metadata": {},
   "outputs": [],
   "source": [
    "cannyS=apply_canny_edge_detection(sobel_img)"
   ]
  },
  {
   "cell_type": "code",
   "execution_count": null,
   "metadata": {},
   "outputs": [],
   "source": [
    "plt.figure()\n",
    "plt.title(\"Sobel Edge Map\")\n",
    "plt.imshow(sobel_img,cmap='gray')\n",
    "plt.figure()\n",
    "plt.title(\"Threshold Mask\")\n",
    "plt.imshow(mask,cmap='gray')\n",
    "plt.figure()\n",
    "plt.title(\"Canny on Threshold Mask\")\n",
    "plt.imshow(cannyoutput,cmap='gray')\n",
    "plt.figure()\n",
    "plt.title(\"Canny on Sobel Map\")\n",
    "plt.imshow(cannyS,cmap='gray')"
   ]
  },
  {
   "attachments": {},
   "cell_type": "markdown",
   "metadata": {},
   "source": [
    "close any open loops "
   ]
  },
  {
   "cell_type": "code",
   "execution_count": 22,
   "metadata": {},
   "outputs": [],
   "source": [
    "# Perform morphological closing\n",
    "# Morphological closing closes any open loops in the image\n",
    "kernel = cv2.getStructuringElement(cv2.MORPH_RECT, (20, 20))  # Adjust kernel size as needed\n",
    "closed_image = cv2.morphologyEx(mask, cv2.MORPH_CLOSE, kernel)"
   ]
  },
  {
   "cell_type": "code",
   "execution_count": 23,
   "metadata": {},
   "outputs": [],
   "source": [
    "# Perform image filling\n",
    "# Filling fills the aforementioned loops\n",
    "filled_image = closed_image.copy()\n",
    "contours, _ = cv2.findContours(closed_image, cv2.RETR_EXTERNAL, cv2.CHAIN_APPROX_SIMPLE)\n",
    "for contour in contours:\n",
    "    cv2.drawContours(filled_image, [contour], 0, 255, -1)"
   ]
  },
  {
   "cell_type": "code",
   "execution_count": null,
   "metadata": {},
   "outputs": [],
   "source": [
    "plt.figure()\n",
    "plt.title(\"Threshold Mask\")\n",
    "plt.imshow(mask,cmap='gray')\n",
    "plt.figure()\n",
    "plt.title(\"Closed mask\")\n",
    "plt.imshow(closed_image,cmap='gray')\n",
    "plt.figure()\n",
    "plt.title(\"Filled mask\")\n",
    "plt.imshow(filled_image,cmap='gray')"
   ]
  },
  {
   "cell_type": "code",
   "execution_count": null,
   "metadata": {},
   "outputs": [],
   "source": [
    "import numpy as np\n",
    "from scipy.ndimage import label\n",
    "\n",
    "# This block finds objects in the image as clusters, and as a requirement\n",
    "# youhave to have a compy of you image in a binary representation (subjects/objects on white background, or vice versa).\n",
    "# you can use this to create a mask to modify selective parts of the image\n",
    "# the way this code was written, it gets rid of all clusters under a certain size\n",
    "\n",
    "# Convert image to binary\n",
    "threshold_percentage = 0.01  # Remove clusters smaller than 20% of the image\n",
    "threshold = int(threshold_percentage * np.prod(filled_image.shape))\n",
    "binary_image = filled_image > 0\n",
    "\n",
    "# Label connected components\n",
    "labeled_image, num_labels = label(binary_image)\n",
    "\n",
    "# Calculate sizes of each label\n",
    "label_sizes = np.bincount(labeled_image.ravel())\n",
    "small_clusters = np.where(label_sizes < threshold)[0]\n",
    "\n",
    "# Create mask to remove small clusters\n",
    "mask = np.isin(labeled_image, small_clusters)\n",
    "\n",
    "# Apply mask to the original image\n",
    "result = filled_image.copy()\n",
    "result[mask] = 0\n",
    "\n",
    "plt.figure()\n",
    "plt.title(\"Denoised\")\n",
    "plt.imshow(result,cmap='gray')\n"
   ]
  },
  {
   "cell_type": "code",
   "execution_count": null,
   "metadata": {},
   "outputs": [],
   "source": [
    "# Create a copy of the original image\n",
    "imgcpy = Oimg.copy()\n",
    "\n",
    "# this demonstrates how you can use this pipeline to remove backgrounds from product images\n",
    "\n",
    "# Iterate through the filled image and update the copy\n",
    "for i in tqdm(range(len(result)), desc='Processing'):\n",
    "    for j in range(len(result[0])):\n",
    "        if result[i][j] == 0:\n",
    "            imgcpy[i][j] = 255\n",
    "\n"
   ]
  },
  {
   "cell_type": "code",
   "execution_count": null,
   "metadata": {},
   "outputs": [],
   "source": [
    "plt.figure()\n",
    "plt.title(\"Original Image\")\n",
    "plt.imshow(Oimg)\n",
    "plt.figure()\n",
    "plt.title(\"Trimmed Image\")\n",
    "plt.imshow(imgcpy,cmap='gray')"
   ]
  },
  {
   "cell_type": "code",
   "execution_count": 46,
   "metadata": {},
   "outputs": [],
   "source": [
    "# This is a fun one. this finds the min/max x,y values for nonwhite pixels, meaning\n",
    "# you can use this to crop out empty spaces\n",
    "\n",
    "def find_min_max_nonwhite(imgcpy):\n",
    "  \"\"\"\n",
    "  Finds the min/max values for x/y for the entries that are not white in a NumPy ndarray (imgcpy).\n",
    "\n",
    "  Args:\n",
    "    imgcpy: A NumPy ndarray that represents an image.\n",
    "\n",
    "  Returns:\n",
    "    A tuple of (min_x, max_x, min_y, max_y).\n",
    "  \"\"\"\n",
    "\n",
    "  # Create a boolean mask that will identify the non-white entries in the image.\n",
    "  mask = imgcpy != 255\n",
    "\n",
    "  # Find the minimum and maximum values of the x and y coordinates of the non-white entries.\n",
    "  min_x = np.min(mask.nonzero()[0])\n",
    "  max_x = np.max(mask.nonzero()[0])\n",
    "  min_y = np.min(mask.nonzero()[1])\n",
    "  max_y = np.max(mask.nonzero()[1])\n",
    "\n",
    "  return min_x, max_x, min_y, max_y"
   ]
  },
  {
   "cell_type": "code",
   "execution_count": 48,
   "metadata": {},
   "outputs": [
    {
     "name": "stdout",
     "output_type": "stream",
     "text": [
      "1046 2182 169 3712\n"
     ]
    }
   ],
   "source": [
    "min_x, max_x, min_y, max_y = find_min_max_nonwhite(imgcpy)\n",
    "print(min_x, max_x, min_y, max_y)\n"
   ]
  },
  {
   "cell_type": "code",
   "execution_count": null,
   "metadata": {},
   "outputs": [],
   "source": [
    "\n",
    "# Draw lines to mark new boundaries on the input image\n",
    "img_marked = imgcpy.copy()\n",
    "cv2.line(img_marked, (min_y, min_x), (max_y, min_x), (255, 0, 0), 2)\n",
    "cv2.line(img_marked, (max_y, min_x), (max_y, max_x), (255, 0, 0), 2)\n",
    "cv2.line(img_marked, (max_y, max_x), (min_y, max_x), (255, 0, 0), 2)\n",
    "cv2.line(img_marked, (min_y, max_x), (min_y, min_x), (255, 0, 0), 2)\n",
    "\n",
    "plt.figure()\n",
    "plt.title(\"Croped Image\")\n",
    "plt.imshow(img_marked,cmap='gray')"
   ]
  },
  {
   "cell_type": "code",
   "execution_count": null,
   "metadata": {},
   "outputs": [],
   "source": [
    "# Crop the image based on the highest/lowest x/y values\n",
    "cropped_img = imgcpy[min_x:max_x+1, min_y:max_y+1, :]\n",
    "\n",
    "# Calculate the new dimensions\n",
    "new_height, new_width, _ = cropped_img.shape\n",
    "\n",
    "# Resize the image to the new dimensions\n",
    "resized_img = cv2.resize(cropped_img, (new_width, new_height))\n",
    "\n",
    "plt.figure()\n",
    "plt.title(\"Resized Image\")\n",
    "plt.imshow(resized_img,cmap='gray')"
   ]
  },
  {
   "cell_type": "code",
   "execution_count": 33,
   "metadata": {},
   "outputs": [],
   "source": [
    "#  the purpose of this was to fix the colors of parts that are transparent\n",
    "#(the glasses in the example(this is not a very good example,\n",
    "#but sometimes with closed loop frames, the glass section retains the colors fo the backgroun))\n",
    "\n",
    "def lighten_image(image, L):\n",
    "  \"\"\"\n",
    "  Lightens all the pixels in an image with a value higher than L.\n",
    "\n",
    "  Args:\n",
    "    image: The input image.\n",
    "    L: The threshold value.\n",
    "\n",
    "  Returns:\n",
    "    The output image after lightening.\n",
    "  \"\"\"\n",
    "  image_array=image.copy()\n",
    "\n",
    "  # Calculate factor\n",
    "  # Lighten the high pixels.\n",
    "  for i in image_array:\n",
    "      for j in image_array[i]:\n",
    "          if image_array[i][j]>L:\n",
    "              image_array[i][j]=image_array[i][j]+((255-image_array[i][j])*0.8)\n",
    "\n",
    "  # Convert the NumPy array back to an image.\n",
    "  output_image = Image.fromarray(image_array)\n",
    "\n",
    "  return output_image\n"
   ]
  },
  {
   "cell_type": "code",
   "execution_count": null,
   "metadata": {},
   "outputs": [],
   "source": [
    "limgcpy=lighten_image(imgcpy, 150)\n",
    "\n",
    "\n",
    "# i just noticed this doesnt work\n",
    "# i probably made a change at some point ant promptly gave up\n",
    "# maybe ill fix it, maybe i wont\n",
    "# guess well find out eventually"
   ]
  },
  {
   "cell_type": "code",
   "execution_count": null,
   "metadata": {},
   "outputs": [],
   "source": [
    "plt.figure()\n",
    "plt.title(\"Trimmed Image\")\n",
    "plt.imshow(imgcpy,cmap='gray')\n",
    "plt.figure()\n",
    "plt.title(\"Lightened Image\")\n",
    "plt.imshow(limgcpy)"
   ]
  },
  {
   "cell_type": "code",
   "execution_count": 25,
   "metadata": {},
   "outputs": [],
   "source": [
    "# Create a PIL Image from the NumPy array\n",
    "image_pil = Image.fromarray(imgcpy)\n",
    "\n",
    "# Save the image\n",
    "image_pil.save(\"output_image.jpg\")  # Adjust the filename and format as needed"
   ]
  }
 ],
 "metadata": {
  "kernelspec": {
   "display_name": "Python 3",
   "language": "python",
   "name": "python3"
  },
  "language_info": {
   "codemirror_mode": {
    "name": "ipython",
    "version": 3
   },
   "file_extension": ".py",
   "mimetype": "text/x-python",
   "name": "python",
   "nbconvert_exporter": "python",
   "pygments_lexer": "ipython3",
   "version": "3.10.6"
  },
  "orig_nbformat": 4
 },
 "nbformat": 4,
 "nbformat_minor": 2
}
